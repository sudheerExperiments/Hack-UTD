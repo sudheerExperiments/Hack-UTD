{
 "cells": [
  {
   "cell_type": "code",
   "execution_count": 24,
   "metadata": {},
   "outputs": [],
   "source": [
    "import pandas as pd\n",
    "import os\n",
    "import sys\n",
    "from sklearn import preprocessing\n",
    "import numpy as np\n",
    "import random"
   ]
  },
  {
   "cell_type": "code",
   "execution_count": 25,
   "metadata": {},
   "outputs": [],
   "source": [
    "DATA_DIR = '/home/phantom/Documents/Electricity_Usage_Forecast_HackUTD/Data/'\n",
    "PREPROCESS_DIR = 'part1'\n",
    "PREPROCESS_DIR1 = 'part2'"
   ]
  },
  {
   "cell_type": "code",
   "execution_count": 26,
   "metadata": {},
   "outputs": [
    {
     "name": "stdout",
     "output_type": "stream",
     "text": [
      "282\n"
     ]
    }
   ],
   "source": [
    "file_names = []\n",
    "data_file_names = []\n",
    "\n",
    "for files in os.listdir(DATA_DIR + PREPROCESS_DIR):\n",
    "    for files1 in os.listdir(DATA_DIR + PREPROCESS_DIR + '/' + files):\n",
    "        if 'SecondarySchool' in files1:\n",
    "            data_file_names.append(DATA_DIR + PREPROCESS_DIR + '/' + files + '/' + files1)\n",
    "                       \n",
    "for files in os.listdir(DATA_DIR + PREPROCESS_DIR1):   \n",
    "    for files1 in os.listdir(DATA_DIR + PREPROCESS_DIR1 + '/' + files):\n",
    "        if 'SecondarySchool' in files1:\n",
    "            data_file_names.append(DATA_DIR + PREPROCESS_DIR1 + '/' + files + '/' + files1)\n",
    "            \n",
    "print(len(data_file_names))"
   ]
  },
  {
   "cell_type": "code",
   "execution_count": 27,
   "metadata": {},
   "outputs": [
    {
     "name": "stdout",
     "output_type": "stream",
     "text": [
      "['Electricity:Facility [kW](Hourly)' 'Fans:Electricity [kW](Hourly)'\n",
      " 'Cooling:Electricity [kW](Hourly)' 'Heating:Electricity [kW](Hourly)'\n",
      " 'InteriorLights:Electricity [kW](Hourly)'\n",
      " 'InteriorEquipment:Electricity [kW](Hourly)' 'Gas:Facility [kW](Hourly)'\n",
      " 'Heating:Gas [kW](Hourly)' 'InteriorEquipment:Gas [kW](Hourly)'\n",
      " 'Water Heater:WaterSystems:Gas [kW](Hourly)']\n",
      "No. of records in data frame:  2470320\n"
     ]
    }
   ],
   "source": [
    "total_electricity_usage_file_data = pd.DataFrame()\n",
    "\n",
    "for total_electricity_usage_file in data_file_names:\n",
    "    total_electricity_usage_file_data = total_electricity_usage_file_data.append(pd.read_csv(total_electricity_usage_file), ignore_index=True)\n",
    "\n",
    "# Drop the Data/time columns, and columns with gas\n",
    "total_electricity_usage_file_data = total_electricity_usage_file_data.drop(['Date/Time'], axis=1)\n",
    "\n",
    "# Describe dataframe.\n",
    "print(total_electricity_usage_file_data.columns.values)\n",
    "# No. of data points in the dataframe.\n",
    "print(\"No. of records in data frame: \", len(total_electricity_usage_file_data))"
   ]
  },
  {
   "cell_type": "code",
   "execution_count": 28,
   "metadata": {},
   "outputs": [
    {
     "name": "stdout",
     "output_type": "stream",
     "text": [
      "Shape of data: (2470320, 10)\n"
     ]
    }
   ],
   "source": [
    "# Create a numpy array of dataset from the dataframe\n",
    "total_electricity_usage_file_data = total_electricity_usage_file_data.values\n",
    "total_electricity_usage_file_data_normalized = np.zeros(shape=total_electricity_usage_file_data.shape)\n",
    "\n",
    "for temp in range(total_electricity_usage_file_data.shape[-1]):\n",
    "    if np.max(total_electricity_usage_file_data[:, temp]) != 0.0:\n",
    "        total_electricity_usage_file_data_normalized[:, temp] = total_electricity_usage_file_data[:, temp] / np.max(total_electricity_usage_file_data[:, temp])\n",
    "       \n",
    "    \n",
    "print(\"Shape of data: {}\".format(total_electricity_usage_file_data_normalized.shape))"
   ]
  },
  {
   "cell_type": "code",
   "execution_count": 29,
   "metadata": {},
   "outputs": [
    {
     "name": "stdout",
     "output_type": "stream",
     "text": [
      "X shape: (2470320, 8), Y shape: (2470320, 2)\n",
      "********************\n",
      "Data information:\n",
      "********************\n",
      "Train indices: [0, 1482192] \n",
      "Val indices: [1482192, 1976256] \n",
      "Test indices: 1976256\n",
      "X train shape: (1482192, 8, 1)\n",
      "Y_train shape: (1482192, 2)\n",
      "X_val shape: (494064, 8, 1)\n",
      "Y_val shape: (494064, 2)      \n",
      "X test shape: (494064, 8, 1)\n",
      "Y test shape: (494064, 2)\n"
     ]
    }
   ],
   "source": [
    "x = total_electricity_usage_file_data_normalized[:, [1,2,3,4,5,6,8,9]]\n",
    "y = total_electricity_usage_file_data_normalized[:, [0,7]]\n",
    "\n",
    "print(\"X shape: {}, Y shape: {}\".format(x.shape, y.shape))\n",
    "\n",
    "# Split data into train, validation, and test data\n",
    "indices = [temp for temp in range(len(x))]\n",
    "\n",
    "# Create a random seed\n",
    "np.random.seed(100)\n",
    "\n",
    "# randomize samples using shuffle function\n",
    "random.shuffle(indices)\n",
    "\n",
    "print(\"********************\")\n",
    "print(\"Data information:\")\n",
    "print(\"********************\")\n",
    "train_indices = [0, int(len(indices) * 0.6)]\n",
    "val_indices = [int(len(indices) * 0.6),  int(len(indices) * 0.8)]\n",
    "test_indices = int(len(indices) * 0.8)\n",
    "\n",
    "print(\"Train indices: {} \\nVal indices: {} \\nTest indices: {}\".format(train_indices, val_indices, test_indices))\n",
    "\n",
    "x_train, y_train = x[train_indices[0]: train_indices[1], :], y[train_indices[0]: train_indices[1]]\n",
    "x_val, y_val = x[val_indices[0]: val_indices[1], :], y[val_indices[0]: val_indices[1]]\n",
    "x_test, y_test = x[test_indices:, :], y[test_indices:]\n",
    "\n",
    "# Add an extra dimension\n",
    "x_train = np.expand_dims(x_train, -1)\n",
    "x_val = np.expand_dims(x_val, -1)\n",
    "x_test = np.expand_dims(x_test, -1)\n",
    "\n",
    "print(\"X train shape: {}\\nY_train shape: {}\\nX_val shape: {}\\nY_val shape: {}\\\n",
    "      \\nX test shape: {}\\nY test shape: {}\".format(x_train.shape, y_train.shape, x_val.shape, y_val.shape, x_test.shape, y_test.shape))\n",
    "\n",
    "# Save data\n",
    "np.save('/home/phantom/Documents/Electricity_Usage_Forecast_HackUTD/Preprocessed_data/x_train.npy', x_train)\n",
    "np.save('/home/phantom/Documents/Electricity_Usage_Forecast_HackUTD/Preprocessed_data/y_train.npy', y_train)\n",
    "np.save('/home/phantom/Documents/Electricity_Usage_Forecast_HackUTD/Preprocessed_data/x_val.npy', x_val)\n",
    "np.save('/home/phantom/Documents/Electricity_Usage_Forecast_HackUTD/Preprocessed_data/y_val.npy', y_val)\n",
    "np.save('/home/phantom/Documents/Electricity_Usage_Forecast_HackUTD/Preprocessed_data/x_test.npy', x_test)\n",
    "np.save('/home/phantom/Documents/Electricity_Usage_Forecast_HackUTD/Preprocessed_data/y_test.npy', y_test)"
   ]
  }
 ],
 "metadata": {
  "kernelspec": {
   "display_name": "Python 3",
   "language": "python",
   "name": "python3"
  },
  "language_info": {
   "codemirror_mode": {
    "name": "ipython",
    "version": 3
   },
   "file_extension": ".py",
   "mimetype": "text/x-python",
   "name": "python",
   "nbconvert_exporter": "python",
   "pygments_lexer": "ipython3",
   "version": "3.6.5"
  }
 },
 "nbformat": 4,
 "nbformat_minor": 2
}
